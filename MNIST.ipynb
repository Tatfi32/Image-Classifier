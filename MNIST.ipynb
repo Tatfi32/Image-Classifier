{
  "nbformat": 4,
  "nbformat_minor": 0,
  "metadata": {
    "colab": {
      "name": "MNIST.ipynb",
      "provenance": [],
      "authorship_tag": "ABX9TyMMijwss8Zjnf/xJXMH1LHU",
      "include_colab_link": true
    },
    "kernelspec": {
      "name": "python3",
      "display_name": "Python 3"
    }
  },
  "cells": [
    {
      "cell_type": "markdown",
      "metadata": {
        "id": "view-in-github",
        "colab_type": "text"
      },
      "source": [
        "<a href=\"https://colab.research.google.com/github/Tatfi32/TEST/blob/master/MNIST.ipynb\" target=\"_parent\"><img src=\"https://colab.research.google.com/assets/colab-badge.svg\" alt=\"Open In Colab\"/></a>"
      ]
    },
    {
      "cell_type": "markdown",
      "metadata": {
        "id": "OtUkndxawdlP"
      },
      "source": [
        "# The MNIST Dataset \r\n",
        "The MNIST dataset contains a lot of examples:\r\n",
        "1. The MNIST training set contains 60,000 examples.\r\n",
        "\r\n",
        "2. The MNIST test set contains 10,000 examples.\r\n",
        "\r\n",
        "\r\n",
        "Each example in the MNIST dataset consists of:\r\n",
        "\r\n",
        "1. A label specified by a rater. Each label must be an integer from 0 to 9. For example, in the preceding image, the rater would almost certainly assign the label 1 to the example.\r\n",
        "\r\n",
        "2. A 28x28 pixel map, where each pixel is an integer between 0 and 255. The pixel values are on a gray scale in which 0 represents white, 255 represents black, and values between 0 and 255 represent various shades of gray.\r\n",
        "\r\n",
        "\r\n"
      ]
    },
    {
      "cell_type": "markdown",
      "metadata": {
        "id": "eTK-MfG1xefn"
      },
      "source": [
        "## Load modules"
      ]
    },
    {
      "cell_type": "code",
      "metadata": {
        "id": "dwjjhN26xW19"
      },
      "source": [
        "import numpy as np\r\n",
        "import pandas as pd\r\n",
        "import tensorflow as tf\r\n",
        "from tensorflow.keras import layers\r\n",
        "from matplotlib import pyplot as plt"
      ],
      "execution_count": null,
      "outputs": []
    },
    {
      "cell_type": "markdown",
      "metadata": {
        "id": "YhbPPxVOxnsU"
      },
      "source": [
        "## Load the dataset"
      ]
    },
    {
      "cell_type": "code",
      "metadata": {
        "id": "6zwZJs1jwY8N"
      },
      "source": [
        "# Note: The MNIST .csv training set is already shuffled.\r\n",
        "(x_train, y_train),(x_test, y_test) = tf.keras.datasets.mnist.load_data()"
      ],
      "execution_count": 20,
      "outputs": []
    },
    {
      "cell_type": "code",
      "metadata": {
        "colab": {
          "base_uri": "https://localhost:8080/",
          "height": 338
        },
        "id": "9DS4offnxqf3",
        "outputId": "196103f2-4ac0-47c6-daca-2419e819a39f"
      },
      "source": [
        "index = np.random.random_integers(0,60000)\r\n",
        "plt.imshow(x_train[index])"
      ],
      "execution_count": 21,
      "outputs": [
        {
          "output_type": "stream",
          "text": [
            "/usr/local/lib/python3.6/dist-packages/ipykernel_launcher.py:1: DeprecationWarning: This function is deprecated. Please call randint(0, 60000 + 1) instead\n",
            "  \"\"\"Entry point for launching an IPython kernel.\n"
          ],
          "name": "stderr"
        },
        {
          "output_type": "execute_result",
          "data": {
            "text/plain": [
              "<matplotlib.image.AxesImage at 0x7fd772151160>"
            ]
          },
          "metadata": {
            "tags": []
          },
          "execution_count": 21
        },
        {
          "output_type": "display_data",
          "data": {
            "image/png": "[encoded data removed]",
            "text/plain": [
              "<Figure size 432x288 with 1 Axes>"
            ]
          },
          "metadata": {
            "tags": [],
            "needs_background": "light"
          }
        }
      ]
    },
    {
      "cell_type": "code",
      "metadata": {
        "id": "wodSfy-jx4Lm"
      },
      "source": [
        "x_train_normalized = x_train / 255.0\r\n",
        "x_test_normalized = x_test / 255.0"
      ],
      "execution_count": 22,
      "outputs": []
    },
    {
      "cell_type": "markdown",
      "metadata": {
        "id": "ak7bTC3Kym4a"
      },
      "source": [
        "## Define a plotting function"
      ]
    },
    {
      "cell_type": "code",
      "metadata": {
        "id": "xXzsJnJsyj-n"
      },
      "source": [
        "def plot_curve(epochs, hist, list_of_metrics):\r\n",
        "  plt.figure()\r\n",
        "  plt.xlabel(\"Epoch\")\r\n",
        "  plt.ylabel(\"Value\")\r\n",
        "\r\n",
        "  for m in list_of_metrics:\r\n",
        "    x = hist[m]\r\n",
        "    plt.plot(epochs[1:], x[1:], label=m)\r\n",
        "  plt.legend()\r\n"
      ],
      "execution_count": 23,
      "outputs": []
    },
    {
      "cell_type": "markdown",
      "metadata": {
        "id": "U2qx2B3-5h_T"
      },
      "source": [
        "## Create a model"
      ]
    },
    {
      "cell_type": "code",
      "metadata": {
        "id": "yL__F0Vi5f5t"
      },
      "source": [
        "def create_model(my_learning_rate):\r\n",
        "  model = tf.keras.models.Sequential()\r\n",
        "\r\n",
        "  # The features are stored in a two-dimensional 28X28 array. \r\n",
        "  # Flatten that two-dimensional array into a a one-dimensional 784-element array.\r\n",
        "  model.add(tf.keras.layers.Flatten(input_shape=(28, 28)))\r\n",
        "\r\n",
        "  # Define the first hidden layer.   \r\n",
        "  model.add(tf.keras.layers.Dense(units=256, activation='relu'))\r\n",
        "  \r\n",
        "  # Define a dropout regularization layer. \r\n",
        "  model.add(tf.keras.layers.Dropout(rate=0.4))\r\n",
        "\r\n",
        "  # Define the output layer. The units parameter is set to 10 because\r\n",
        "  # the model must choose among 10 possible output values (representing\r\n",
        "  # the digits from 0 to 9, inclusive).\r\n",
        "\r\n",
        "  model.add(tf.keras.layers.Dense(units=10, activation='softmax'))     \r\n",
        "                           \r\n",
        "  # Construct the layers into a model that TensorFlow can execute.  \r\n",
        "  model.compile(optimizer=tf.keras.optimizers.Adam(lr=my_learning_rate),\r\n",
        "                loss=\"sparse_categorical_crossentropy\",\r\n",
        "                metrics=['accuracy'])\r\n",
        "  return model    \r\n",
        "\r\n",
        "\r\n",
        "def train_model(model, train_features, train_label, epochs,\r\n",
        "                batch_size=None, validation_split=0.1):\r\n",
        "\r\n",
        "  history = model.fit(x=train_features, y=train_label, batch_size=batch_size,\r\n",
        "                      epochs=epochs, shuffle=True, \r\n",
        "                      validation_split=validation_split)\r\n",
        "\r\n",
        "  epochs = history.epoch\r\n",
        "  hist = pd.DataFrame(history.history)\r\n",
        "\r\n",
        "  return epochs, hist    "
      ],
      "execution_count": 24,
      "outputs": []
    },
    {
      "cell_type": "code",
      "metadata": {
        "colab": {
          "base_uri": "https://localhost:8080/",
          "height": 1000
        },
        "id": "sfYjmNop59Gs",
        "outputId": "7936f936-8fea-42f7-e681-420ba15c5e0e"
      },
      "source": [
        "learning_rate = 0.003\r\n",
        "epochs = 50\r\n",
        "batch_size = 4000\r\n",
        "validation_split = 0.2\r\n",
        "\r\n",
        "\r\n",
        "my_model = create_model(learning_rate)\r\n",
        "\r\n",
        "epochs, hist = train_model(my_model, x_train_normalized, y_train, \r\n",
        "                           epochs, batch_size, validation_split)\r\n",
        "\r\n",
        "list_of_metrics_to_plot = ['accuracy']\r\n",
        "plot_curve(epochs, hist, list_of_metrics_to_plot)\r\n",
        "\r\n",
        "\r\n",
        "print(\"\\n Evaluate the new model against the test set:\")\r\n",
        "my_model.evaluate(x=x_test_normalized, y=y_test, batch_size=batch_size)"
      ],
      "execution_count": 26,
      "outputs": [
        {
          "output_type": "stream",
          "text": [
            "Epoch 1/50\n",
            "12/12 [==============================] - 2s 108ms/step - loss: 1.4545 - accuracy: 0.5464 - val_loss: 0.3767 - val_accuracy: 0.8914\n",
            "Epoch 2/50\n",
            "12/12 [==============================] - 1s 96ms/step - loss: 0.4151 - accuracy: 0.8754 - val_loss: 0.2842 - val_accuracy: 0.9183\n",
            "Epoch 3/50\n",
            "12/12 [==============================] - 1s 94ms/step - loss: 0.3172 - accuracy: 0.9075 - val_loss: 0.2332 - val_accuracy: 0.9334\n",
            "Epoch 4/50\n",
            "12/12 [==============================] - 1s 95ms/step - loss: 0.2487 - accuracy: 0.9280 - val_loss: 0.2035 - val_accuracy: 0.9414\n",
            "Epoch 5/50\n",
            "12/12 [==============================] - 1s 94ms/step - loss: 0.2206 - accuracy: 0.9379 - val_loss: 0.1788 - val_accuracy: 0.9495\n",
            "Epoch 6/50\n",
            "12/12 [==============================] - 1s 92ms/step - loss: 0.1870 - accuracy: 0.9456 - val_loss: 0.1639 - val_accuracy: 0.9532\n",
            "Epoch 7/50\n",
            "12/12 [==============================] - 1s 93ms/step - loss: 0.1719 - accuracy: 0.9497 - val_loss: 0.1489 - val_accuracy: 0.9577\n",
            "Epoch 8/50\n",
            "12/12 [==============================] - 1s 93ms/step - loss: 0.1527 - accuracy: 0.9581 - val_loss: 0.1398 - val_accuracy: 0.9593\n",
            "Epoch 9/50\n",
            "12/12 [==============================] - 1s 92ms/step - loss: 0.1388 - accuracy: 0.9591 - val_loss: 0.1301 - val_accuracy: 0.9622\n",
            "Epoch 10/50\n",
            "12/12 [==============================] - 1s 104ms/step - loss: 0.1292 - accuracy: 0.9628 - val_loss: 0.1239 - val_accuracy: 0.9630\n",
            "Epoch 11/50\n",
            "12/12 [==============================] - 1s 95ms/step - loss: 0.1221 - accuracy: 0.9646 - val_loss: 0.1191 - val_accuracy: 0.9641\n",
            "Epoch 12/50\n",
            "12/12 [==============================] - 1s 95ms/step - loss: 0.1091 - accuracy: 0.9691 - val_loss: 0.1123 - val_accuracy: 0.9657\n",
            "Epoch 13/50\n",
            "12/12 [==============================] - 1s 93ms/step - loss: 0.0991 - accuracy: 0.9709 - val_loss: 0.1072 - val_accuracy: 0.9676\n",
            "Epoch 14/50\n",
            "12/12 [==============================] - 1s 94ms/step - loss: 0.0953 - accuracy: 0.9735 - val_loss: 0.1061 - val_accuracy: 0.9680\n",
            "Epoch 15/50\n",
            "12/12 [==============================] - 1s 94ms/step - loss: 0.0882 - accuracy: 0.9747 - val_loss: 0.1018 - val_accuracy: 0.9689\n",
            "Epoch 16/50\n",
            "12/12 [==============================] - 1s 92ms/step - loss: 0.0828 - accuracy: 0.9758 - val_loss: 0.0995 - val_accuracy: 0.9690\n",
            "Epoch 17/50\n",
            "12/12 [==============================] - 1s 95ms/step - loss: 0.0783 - accuracy: 0.9774 - val_loss: 0.0959 - val_accuracy: 0.9712\n",
            "Epoch 18/50\n",
            "12/12 [==============================] - 1s 94ms/step - loss: 0.0720 - accuracy: 0.9786 - val_loss: 0.0927 - val_accuracy: 0.9718\n",
            "Epoch 19/50\n",
            "12/12 [==============================] - 1s 94ms/step - loss: 0.0693 - accuracy: 0.9799 - val_loss: 0.0901 - val_accuracy: 0.9728\n",
            "Epoch 20/50\n",
            "12/12 [==============================] - 1s 94ms/step - loss: 0.0642 - accuracy: 0.9823 - val_loss: 0.0886 - val_accuracy: 0.9732\n",
            "Epoch 21/50\n",
            "12/12 [==============================] - 1s 93ms/step - loss: 0.0590 - accuracy: 0.9836 - val_loss: 0.0879 - val_accuracy: 0.9733\n",
            "Epoch 22/50\n",
            "12/12 [==============================] - 1s 95ms/step - loss: 0.0597 - accuracy: 0.9827 - val_loss: 0.0856 - val_accuracy: 0.9747\n",
            "Epoch 23/50\n",
            "12/12 [==============================] - 1s 92ms/step - loss: 0.0549 - accuracy: 0.9851 - val_loss: 0.0838 - val_accuracy: 0.9751\n",
            "Epoch 24/50\n",
            "12/12 [==============================] - 1s 93ms/step - loss: 0.0520 - accuracy: 0.9857 - val_loss: 0.0830 - val_accuracy: 0.9755\n",
            "Epoch 25/50\n",
            "12/12 [==============================] - 1s 93ms/step - loss: 0.0498 - accuracy: 0.9861 - val_loss: 0.0816 - val_accuracy: 0.9757\n",
            "Epoch 26/50\n",
            "12/12 [==============================] - 1s 95ms/step - loss: 0.0488 - accuracy: 0.9863 - val_loss: 0.0807 - val_accuracy: 0.9756\n",
            "Epoch 27/50\n",
            "12/12 [==============================] - 1s 94ms/step - loss: 0.0443 - accuracy: 0.9877 - val_loss: 0.0802 - val_accuracy: 0.9762\n",
            "Epoch 28/50\n",
            "12/12 [==============================] - 1s 94ms/step - loss: 0.0421 - accuracy: 0.9891 - val_loss: 0.0803 - val_accuracy: 0.9758\n",
            "Epoch 29/50\n",
            "12/12 [==============================] - 1s 93ms/step - loss: 0.0413 - accuracy: 0.9888 - val_loss: 0.0781 - val_accuracy: 0.9763\n",
            "Epoch 30/50\n",
            "12/12 [==============================] - 1s 94ms/step - loss: 0.0389 - accuracy: 0.9893 - val_loss: 0.0782 - val_accuracy: 0.9772\n",
            "Epoch 31/50\n",
            "12/12 [==============================] - 1s 104ms/step - loss: 0.0382 - accuracy: 0.9895 - val_loss: 0.0773 - val_accuracy: 0.9762\n",
            "Epoch 32/50\n",
            "12/12 [==============================] - 1s 94ms/step - loss: 0.0353 - accuracy: 0.9908 - val_loss: 0.0761 - val_accuracy: 0.9772\n",
            "Epoch 33/50\n",
            "12/12 [==============================] - 1s 94ms/step - loss: 0.0331 - accuracy: 0.9914 - val_loss: 0.0760 - val_accuracy: 0.9772\n",
            "Epoch 34/50\n",
            "12/12 [==============================] - 1s 94ms/step - loss: 0.0324 - accuracy: 0.9910 - val_loss: 0.0753 - val_accuracy: 0.9774\n",
            "Epoch 35/50\n",
            "12/12 [==============================] - 1s 94ms/step - loss: 0.0296 - accuracy: 0.9922 - val_loss: 0.0753 - val_accuracy: 0.9775\n",
            "Epoch 36/50\n",
            "12/12 [==============================] - 1s 93ms/step - loss: 0.0279 - accuracy: 0.9931 - val_loss: 0.0754 - val_accuracy: 0.9783\n",
            "Epoch 37/50\n",
            "12/12 [==============================] - 1s 94ms/step - loss: 0.0289 - accuracy: 0.9925 - val_loss: 0.0741 - val_accuracy: 0.9783\n",
            "Epoch 38/50\n",
            "12/12 [==============================] - 1s 94ms/step - loss: 0.0290 - accuracy: 0.9919 - val_loss: 0.0746 - val_accuracy: 0.9778\n",
            "Epoch 39/50\n",
            "12/12 [==============================] - 1s 93ms/step - loss: 0.0261 - accuracy: 0.9934 - val_loss: 0.0736 - val_accuracy: 0.9784\n",
            "Epoch 40/50\n",
            "12/12 [==============================] - 1s 95ms/step - loss: 0.0253 - accuracy: 0.9932 - val_loss: 0.0741 - val_accuracy: 0.9782\n",
            "Epoch 41/50\n",
            "12/12 [==============================] - 1s 95ms/step - loss: 0.0232 - accuracy: 0.9944 - val_loss: 0.0743 - val_accuracy: 0.9777\n",
            "Epoch 42/50\n",
            "12/12 [==============================] - 1s 94ms/step - loss: 0.0235 - accuracy: 0.9937 - val_loss: 0.0725 - val_accuracy: 0.9793\n",
            "Epoch 43/50\n",
            "12/12 [==============================] - 1s 95ms/step - loss: 0.0230 - accuracy: 0.9940 - val_loss: 0.0730 - val_accuracy: 0.9795\n",
            "Epoch 44/50\n",
            "12/12 [==============================] - 1s 96ms/step - loss: 0.0209 - accuracy: 0.9950 - val_loss: 0.0723 - val_accuracy: 0.9793\n",
            "Epoch 45/50\n",
            "12/12 [==============================] - 1s 96ms/step - loss: 0.0205 - accuracy: 0.9948 - val_loss: 0.0727 - val_accuracy: 0.9796\n",
            "Epoch 46/50\n",
            "12/12 [==============================] - 1s 95ms/step - loss: 0.0202 - accuracy: 0.9951 - val_loss: 0.0726 - val_accuracy: 0.9793\n",
            "Epoch 47/50\n",
            "12/12 [==============================] - 1s 94ms/step - loss: 0.0196 - accuracy: 0.9953 - val_loss: 0.0743 - val_accuracy: 0.9792\n",
            "Epoch 48/50\n",
            "12/12 [==============================] - 1s 95ms/step - loss: 0.0177 - accuracy: 0.9962 - val_loss: 0.0740 - val_accuracy: 0.9792\n",
            "Epoch 49/50\n",
            "12/12 [==============================] - 1s 94ms/step - loss: 0.0179 - accuracy: 0.9955 - val_loss: 0.0727 - val_accuracy: 0.9793\n",
            "Epoch 50/50\n",
            "12/12 [==============================] - 1s 95ms/step - loss: 0.0189 - accuracy: 0.9949 - val_loss: 0.0719 - val_accuracy: 0.9796\n",
            "\n",
            " Evaluate the new model against the test set:\n",
            "3/3 [==============================] - 0s 25ms/step - loss: 0.0661 - accuracy: 0.9804\n"
          ],
          "name": "stdout"
        },
        {
          "output_type": "execute_result",
          "data": {
            "text/plain": [
              "[0.06610514223575592, 0.980400025844574]"
            ]
          },
          "metadata": {
            "tags": []
          },
          "execution_count": 26
        },
        {
          "output_type": "display_data",
          "data": {
            "image/png": "[encoded data removed]",
            "text/plain": [
              "<Figure size 432x288 with 1 Axes>"
            ]
          },
          "metadata": {
            "tags": [],
            "needs_background": "light"
          }
        }
      ]
    }
  ]
}